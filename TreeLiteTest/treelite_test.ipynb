{
 "cells": [
  {
   "cell_type": "code",
   "execution_count": 2,
   "metadata": {},
   "outputs": [],
   "source": [
    "import treelite\n",
    "from treelite.model_builder import (\n",
    "  Metadata,\n",
    "  ModelBuilder,\n",
    "  PostProcessorFunc,\n",
    "  TreeAnnotation,\n",
    ")\n",
    "import sklearn\n",
    "import joblib\n",
    "import tl2cgen\n",
    "import numpy as np\n",
    "import time"
   ]
  },
  {
   "cell_type": "code",
   "execution_count": 4,
   "metadata": {},
   "outputs": [],
   "source": [
    "sklearn_path = '../model/nyc-taxi-green-dec-2016_d10_l859_n1717_20241015054511_rf.joblib'\n",
    "sklearn_model = joblib.load(sklearn_path)"
   ]
  },
  {
   "cell_type": "code",
   "execution_count": 3,
   "metadata": {},
   "outputs": [],
   "source": [
    "sklearn_path = '../model/nyc-taxi-green-dec-2016_d10_l859_n1717_20241015054511_out2.joblib'\n",
    "sklearn_model = joblib.load(sklearn_path)"
   ]
  },
  {
   "cell_type": "code",
   "execution_count": 5,
   "metadata": {},
   "outputs": [],
   "source": [
    "model = treelite.sklearn.import_model(sklearn_model)"
   ]
  },
  {
   "cell_type": "code",
   "execution_count": 6,
   "metadata": {},
   "outputs": [],
   "source": [
    "toolchain = \"clang\"\n",
    "# toolchain = \"gcc\""
   ]
  },
  {
   "cell_type": "code",
   "execution_count": 7,
   "metadata": {},
   "outputs": [
    {
     "name": "stdout",
     "output_type": "stream",
     "text": [
      "[15:59:48] /home/conda/feedstock_root/build_artifacts/tl2cgen_1709780361179/work/src/compiler/ast/split.cc:30: Parallel compilation disabled; all member trees will be dumped to a single source file. This may increase compilation time and memory usage.\n"
     ]
    }
   ],
   "source": [
    "tl2cgen.export_lib(model, toolchain=toolchain, libpath=\"../model/lib/nyc-taxi-green-dec-2016_d10_l859_n1717_20241015054511_rf.so\")\n",
    "predictor = tl2cgen.Predictor(\"../model/lib/nyc-taxi-green-dec-2016_d10_l859_n1717_20241015054511_rf.so\")"
   ]
  },
  {
   "cell_type": "code",
   "execution_count": 8,
   "metadata": {},
   "outputs": [],
   "source": [
    "npy_path = \"../data/nyc-taxi-green-dec-2016_1G.npy\"\n",
    "data = np.load(npy_path)\n",
    "dmat = tl2cgen.DMatrix(data=data, dtype='float32', missing=None)\n"
   ]
  },
  {
   "cell_type": "code",
   "execution_count": 10,
   "metadata": {},
   "outputs": [],
   "source": [
    "tl2cgen.annotate_branch(model, dmat, '../model/ccode/branch.json')"
   ]
  },
  {
   "cell_type": "code",
   "execution_count": 13,
   "metadata": {},
   "outputs": [
    {
     "name": "stdout",
     "output_type": "stream",
     "text": [
      "[16:03:40] /home/conda/feedstock_root/build_artifacts/tl2cgen_1709780361179/work/src/compiler/ast/split.cc:30: Parallel compilation disabled; all member trees will be dumped to a single source file. This may increase compilation time and memory usage.\n"
     ]
    }
   ],
   "source": [
    "tl2cgen.generate_c_code(model, dirpath=\"../model/ccode/\",params={})"
   ]
  },
  {
   "cell_type": "code",
   "execution_count": 30,
   "metadata": {},
   "outputs": [
    {
     "name": "stdout",
     "output_type": "stream",
     "text": [
      "0.22199486001045443\n"
     ]
    }
   ],
   "source": [
    "start = time.perf_counter()\n",
    "predictor.predict(dmat)\n",
    "end = time.perf_counter()\n",
    "print(end-start)"
   ]
  }
 ],
 "metadata": {
  "kernelspec": {
   "display_name": "onnx",
   "language": "python",
   "name": "python3"
  },
  "language_info": {
   "codemirror_mode": {
    "name": "ipython",
    "version": 3
   },
   "file_extension": ".py",
   "mimetype": "text/x-python",
   "name": "python",
   "nbconvert_exporter": "python",
   "pygments_lexer": "ipython3",
   "version": "3.12.2"
  }
 },
 "nbformat": 4,
 "nbformat_minor": 2
}
